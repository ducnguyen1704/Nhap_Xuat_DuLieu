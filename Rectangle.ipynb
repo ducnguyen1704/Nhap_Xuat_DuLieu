{
 "cells": [
  {
   "cell_type": "code",
   "execution_count": 5,
   "source": [
    "import turtle\r\n",
    "import math"
   ],
   "outputs": [],
   "metadata": {}
  },
  {
   "cell_type": "code",
   "execution_count": 3,
   "source": [
    "# Bước 1. Nhập vào màu sắc, 2 cạnh của hình chữ nhật\r\n",
    "color = input(\"Nhập màu hoặc mã màu bạn muốn\") # ví dụ: red, blue, yellow, #FFFFFF, #000000\r\n",
    "w = int(input(\"Nhập vào chiều dài hình chữ nhật\")) # ví dụ: 100, 300, Lưu ý: Chiều dài lớn hơn chiều rộng\r\n",
    "h = int(input(\"Nhập vào chiều rộng hình chữ nhật\"))\r\n",
    "\r\n",
    "if w <= h:\r\n",
    "    print(\"Xin mời nhập lại\")\r\n",
    "else:\r\n",
    "    print(\"Màu bạn chọn là: \", color)\r\n",
    "    print(\"Chiều dài hình chữ nhật là: \", w)\r\n",
    "    print(\"Chiều rộng hình chữ nhật là: \", h)\r\n"
   ],
   "outputs": [
    {
     "output_type": "stream",
     "name": "stdout",
     "text": [
      "Màu bạn chọn là:  #000000\n",
      "Chiều dài hình chữ nhật là:  300\n",
      "Chiều rộng hình chữ nhật là:  100\n"
     ]
    }
   ],
   "metadata": {}
  },
  {
   "cell_type": "code",
   "execution_count": 6,
   "source": [
    "if w > h:\r\n",
    "    t = turtle.Turtle()\r\n",
    "    t.pensize(4)\r\n",
    "    t.pencolor(\"black\")\r\n",
    "    t.fillcolor(color)\r\n",
    "    t.begin_fill()\r\n",
    "    for i in range(2):\r\n",
    "        t.forward(w)\r\n",
    "        t.left(90)\r\n",
    "        t.forward(h)\r\n",
    "        t.left(90)\r\n",
    "    t.end_fill()\r\n",
    "else:\r\n",
    "    print(\"Đây không phải hình chữ nhật\")\r\n",
    "    print(\"Xin mời bạn nhập lại \")"
   ],
   "outputs": [],
   "metadata": {}
  },
  {
   "cell_type": "code",
   "execution_count": 7,
   "source": [
    "# tính chu vi và diện tích\r\n",
    "c = (w + h) * 2\r\n",
    "s = w * h"
   ],
   "outputs": [],
   "metadata": {}
  },
  {
   "cell_type": "code",
   "execution_count": 10,
   "source": [
    "print(\"Chu vi hình chữ nhật có chiều dài {} và chiều rộng {} là: {}\".format(w,h,c))\r\n",
    "print(\"Diện tích hình chữ nhật có chiều dài {} và chiều rộng {} là: {}\".format(w,h,s))"
   ],
   "outputs": [
    {
     "output_type": "stream",
     "name": "stdout",
     "text": [
      "Chu vi hình chữ nhật có chiều dài 300 và chiều rộng 100 là: 800\n",
      "Diện tích hình chữ nhật có chiều dài 300 và chiều rộng 100 là: 30000\n"
     ]
    }
   ],
   "metadata": {}
  },
  {
   "cell_type": "code",
   "execution_count": null,
   "source": [],
   "outputs": [],
   "metadata": {}
  }
 ],
 "metadata": {
  "orig_nbformat": 4,
  "language_info": {
   "name": "python",
   "version": "3.7.0",
   "mimetype": "text/x-python",
   "codemirror_mode": {
    "name": "ipython",
    "version": 3
   },
   "pygments_lexer": "ipython3",
   "nbconvert_exporter": "python",
   "file_extension": ".py"
  },
  "kernelspec": {
   "name": "python3",
   "display_name": "Python 3.7.0 64-bit"
  },
  "interpreter": {
   "hash": "fbe69909b876abbd803d291e51ebabcdbbeff4e7f625f723ebefe76e750e4611"
  }
 },
 "nbformat": 4,
 "nbformat_minor": 2
}
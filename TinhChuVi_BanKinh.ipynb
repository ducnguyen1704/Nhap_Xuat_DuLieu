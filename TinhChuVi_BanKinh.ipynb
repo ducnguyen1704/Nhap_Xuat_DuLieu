{
 "cells": [
  {
   "cell_type": "markdown",
   "source": [
    "* Mô tả bài toán\r\n",
    "\r\n",
    "* Nhập vào bán kính của hình tròn, vẽ hình tròn có bán kính đã nhập. Tính chu vi và diện tích của hình tròn có bán kính vừa nhập. Hiển thị kết quả ra màn hình."
   ],
   "metadata": {}
  },
  {
   "cell_type": "code",
   "execution_count": 3,
   "source": [
    "import turtle\r\n",
    "import math"
   ],
   "outputs": [],
   "metadata": {}
  },
  {
   "cell_type": "code",
   "execution_count": 7,
   "source": [
    "# Nhap vao bán kính\r\n",
    "r = int(input(\"Enter the radius\"))\r\n",
    "print(\"Bán kính bạn đã nhập có giá trị là: \",r)"
   ],
   "outputs": [
    {
     "output_type": "stream",
     "name": "stdout",
     "text": [
      "Bán kính bạn đã nhập có giá trị là:  70\n"
     ]
    }
   ],
   "metadata": {}
  },
  {
   "cell_type": "code",
   "execution_count": 8,
   "source": [
    "# Vẽ đường tròn với bán kính đó\r\n",
    "t = turtle.Turtle()\r\n",
    "t.hideturtle()\r\n",
    "t.pensize(1)\r\n",
    "t.color(\"red\")\r\n",
    "t.fillcolor(\"Yellow\")\r\n",
    "t.begin_fill()\r\n",
    "t.circle(r)\r\n",
    "t.end_fill()"
   ],
   "outputs": [],
   "metadata": {}
  },
  {
   "cell_type": "code",
   "execution_count": 9,
   "source": [
    "# Tính chu vi và diên tích\r\n",
    "c = 2 * math.pi * r # công thức chu vi\r\n",
    "s = math.pi * r * r # Công thức diên tích"
   ],
   "outputs": [],
   "metadata": {}
  },
  {
   "cell_type": "code",
   "execution_count": 16,
   "source": [
    "print(\"Chu vi của hình vuông có bán kính \"+str(r) +\" \"+ \"là: \",round(c,2)) # làm tròn số\r\n",
    "print(\"Diện tích của hình vuông có bán kính \"+str(r) +\" \"+ \"là: \",round(s,2)) # làm tròn số"
   ],
   "outputs": [
    {
     "output_type": "stream",
     "name": "stdout",
     "text": [
      "Chu vi của hình vuông có bán kính 70 là:  439.82\n",
      "Diện tích của hình vuông có bán kính 70 là:  15393.8\n"
     ]
    }
   ],
   "metadata": {}
  },
  {
   "cell_type": "code",
   "execution_count": 13,
   "source": [
    "# xuất c2\r\n",
    "print(\"Chu vi của hình tròn có bán kính = {r} là {c}\".format(r=r, c=c))\r\n",
    "print(\"Diện tích của hình tròn có bán kính = {r} là {s}\".format(r=r, s=s))"
   ],
   "outputs": [
    {
     "output_type": "stream",
     "name": "stdout",
     "text": [
      "Chu vi của hình tròn có bán kính = 70 là 439.822971502571\n",
      "Diện tích của hình tròn có bán kính = 70 là 15393.804002589986\n"
     ]
    }
   ],
   "metadata": {}
  },
  {
   "cell_type": "code",
   "execution_count": null,
   "source": [],
   "outputs": [],
   "metadata": {}
  }
 ],
 "metadata": {
  "orig_nbformat": 4,
  "language_info": {
   "name": "python",
   "version": "3.7.0",
   "mimetype": "text/x-python",
   "codemirror_mode": {
    "name": "ipython",
    "version": 3
   },
   "pygments_lexer": "ipython3",
   "nbconvert_exporter": "python",
   "file_extension": ".py"
  },
  "kernelspec": {
   "name": "python3",
   "display_name": "Python 3.7.0 64-bit"
  },
  "interpreter": {
   "hash": "fbe69909b876abbd803d291e51ebabcdbbeff4e7f625f723ebefe76e750e4611"
  }
 },
 "nbformat": 4,
 "nbformat_minor": 2
}